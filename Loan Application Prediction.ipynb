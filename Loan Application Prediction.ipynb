{
 "cells": [
  {
   "cell_type": "code",
   "execution_count": 1,
   "id": "7387de54",
   "metadata": {},
   "outputs": [],
   "source": [
    "import pandas as pd\n",
    "import numpy as np\n",
    "import matplotlib.pyplot as plt\n",
    "import seaborn as sns\n",
    "from sklearn.model_selection import train_test_split\n",
    "from sklearn.preprocessing import StandardScaler,OneHotEncoder,LabelEncoder\n"
   ]
  },
  {
   "cell_type": "markdown",
   "id": "8a24f320",
   "metadata": {},
   "source": [
    "# Importing Data for training \n",
    "## Checking the data type of each columns "
   ]
  },
  {
   "cell_type": "code",
   "execution_count": 2,
   "id": "7a667043",
   "metadata": {},
   "outputs": [
    {
     "name": "stdout",
     "output_type": "stream",
     "text": [
      "<class 'pandas.core.frame.DataFrame'>\n",
      "RangeIndex: 614 entries, 0 to 613\n",
      "Data columns (total 13 columns):\n",
      " #   Column             Non-Null Count  Dtype  \n",
      "---  ------             --------------  -----  \n",
      " 0   Loan_ID            614 non-null    object \n",
      " 1   Gender             601 non-null    object \n",
      " 2   Married            611 non-null    object \n",
      " 3   Dependents         599 non-null    object \n",
      " 4   Education          614 non-null    object \n",
      " 5   Self_Employed      582 non-null    object \n",
      " 6   ApplicantIncome    614 non-null    int64  \n",
      " 7   CoapplicantIncome  614 non-null    float64\n",
      " 8   LoanAmount         592 non-null    float64\n",
      " 9   Loan_Amount_Term   600 non-null    float64\n",
      " 10  Credit_History     564 non-null    float64\n",
      " 11  Property_Area      614 non-null    object \n",
      " 12  Loan_Status        614 non-null    object \n",
      "dtypes: float64(4), int64(1), object(8)\n",
      "memory usage: 62.5+ KB\n"
     ]
    }
   ],
   "source": [
    "Data=pd.read_csv('/Users/alok.g.v/Desktop/project/Loan Prediction analytic vidhya /train_ctrUa4K.csv')\n",
    "Data.info()"
   ]
  },
  {
   "cell_type": "markdown",
   "id": "2f889699",
   "metadata": {},
   "source": [
    "## We can see that Dependents can be converted to int for model buliding .\n"
   ]
  },
  {
   "cell_type": "code",
   "execution_count": 3,
   "id": "15a36b4e",
   "metadata": {},
   "outputs": [
    {
     "name": "stdout",
     "output_type": "stream",
     "text": [
      "The number of null values in Loan_ID :  0\n",
      "The number of null values in Gender :  13\n",
      "The number of null values in Married :  3\n",
      "The number of null values in Dependents :  15\n",
      "The number of null values in Education :  0\n",
      "The number of null values in Self_Employed :  32\n",
      "The number of null values in ApplicantIncome :  0\n",
      "The number of null values in CoapplicantIncome :  0\n",
      "The number of null values in LoanAmount :  22\n",
      "The number of null values in Loan_Amount_Term :  14\n",
      "The number of null values in Credit_History :  50\n",
      "The number of null values in Property_Area :  0\n",
      "The number of null values in Loan_Status :  0\n"
     ]
    }
   ],
   "source": [
    "columns=Data.columns\n",
    "for i in columns:\n",
    "    print(f'The number of null values in {i} : ',Data[i].isna().sum())\n",
    "    \n",
    "    "
   ]
  },
  {
   "cell_type": "code",
   "execution_count": 4,
   "id": "164bcd60",
   "metadata": {},
   "outputs": [],
   "source": [
    "Obj_cols=Data.select_dtypes(include=['object']).columns\n",
    "num_cols=Data.select_dtypes(include=['int64','float64']).columns\n"
   ]
  },
  {
   "cell_type": "code",
   "execution_count": 5,
   "id": "a9055767",
   "metadata": {},
   "outputs": [
    {
     "name": "stdout",
     "output_type": "stream",
     "text": [
      "The Distribution of Loan_ID :\n",
      "\n",
      "\n",
      "LP002524    1\n",
      "LP002377    1\n",
      "LP002478    1\n",
      "LP002933    1\n",
      "LP001469    1\n",
      "           ..\n",
      "LP001497    1\n",
      "LP001872    1\n",
      "LP001849    1\n",
      "LP001917    1\n",
      "LP002398    1\n",
      "Name: Loan_ID, Length: 614, dtype: int64\n",
      "\n",
      "\n",
      "\n",
      "The Distribution of Gender :\n",
      "\n",
      "\n",
      "Male      489\n",
      "Female    112\n",
      "Name: Gender, dtype: int64\n",
      "\n",
      "\n",
      "\n",
      "The Distribution of Married :\n",
      "\n",
      "\n",
      "Yes    398\n",
      "No     213\n",
      "Name: Married, dtype: int64\n",
      "\n",
      "\n",
      "\n",
      "The Distribution of Dependents :\n",
      "\n",
      "\n",
      "0     345\n",
      "1     102\n",
      "2     101\n",
      "3+     51\n",
      "Name: Dependents, dtype: int64\n",
      "\n",
      "\n",
      "\n",
      "The Distribution of Education :\n",
      "\n",
      "\n",
      "Graduate        480\n",
      "Not Graduate    134\n",
      "Name: Education, dtype: int64\n",
      "\n",
      "\n",
      "\n",
      "The Distribution of Self_Employed :\n",
      "\n",
      "\n",
      "No     500\n",
      "Yes     82\n",
      "Name: Self_Employed, dtype: int64\n",
      "\n",
      "\n",
      "\n",
      "The Distribution of Property_Area :\n",
      "\n",
      "\n",
      "Semiurban    233\n",
      "Urban        202\n",
      "Rural        179\n",
      "Name: Property_Area, dtype: int64\n",
      "\n",
      "\n",
      "\n",
      "The Distribution of Loan_Status :\n",
      "\n",
      "\n",
      "Y    422\n",
      "N    192\n",
      "Name: Loan_Status, dtype: int64\n",
      "\n",
      "\n",
      "\n"
     ]
    }
   ],
   "source": [
    "for i in Obj_cols:\n",
    "    print(f'The Distribution of {i} :\\n\\n')\n",
    "    print(Data[i].value_counts())\n",
    "    print('\\n\\n')"
   ]
  },
  {
   "cell_type": "code",
   "execution_count": 6,
   "id": "6068472c",
   "metadata": {},
   "outputs": [
    {
     "data": {
      "text/plain": [
       "Index(['ApplicantIncome', 'CoapplicantIncome', 'LoanAmount',\n",
       "       'Loan_Amount_Term', 'Credit_History'],\n",
       "      dtype='object')"
      ]
     },
     "execution_count": 6,
     "metadata": {},
     "output_type": "execute_result"
    }
   ],
   "source": [
    "num_cols"
   ]
  },
  {
   "cell_type": "code",
   "execution_count": 7,
   "id": "3b12a100",
   "metadata": {},
   "outputs": [
    {
     "data": {
      "image/png": "[encoded data removed]",
      "text/plain": [
       "<Figure size 864x1440 with 5 Axes>"
      ]
     },
     "metadata": {
      "needs_background": "light"
     },
     "output_type": "display_data"
    }
   ],
   "source": [
    "fig,axe=plt.subplots(5,1,figsize=(12,20))\n",
    "sns.histplot(data=Data,x='ApplicantIncome',ax=axe[0])\n",
    "axe[0].set_title('Distribution of Applicants income')\n",
    "sns.histplot(data=Data,x='CoapplicantIncome',ax=axe[1])\n",
    "axe[1].set_title('Distribution of Co- applicant Income')\n",
    "sns.histplot(data=Data,x='LoanAmount',ax=axe[2])\n",
    "axe[2].set_title('Distribution of Loan Amount')\n",
    "sns.histplot(data=Data,x='Loan_Amount_Term',ax=axe[3])\n",
    "axe[3].set_title('Distribution of Load Term')\n",
    "sns.histplot(data=Data,x='Credit_History',ax=axe[4])\n",
    "axe[4].set_title('Distribution of Credit History')\n",
    "\n",
    "\n",
    "\n",
    "fig.tight_layout(pad=3.0)\n",
    "\n",
    "\n",
    "\n",
    "\n",
    "\n"
   ]
  },
  {
   "cell_type": "markdown",
   "id": "451b9890",
   "metadata": {},
   "source": [
    "## From the distribution of data we can replace the missing values with the most common or majority of each column.\n",
    "### The number of null values in Gender is 13,We can replace the missing null values as Male as its the majority.\n",
    "### The number of null values in Married is 3,We can replace the missing null values as Yes as its the majority.\n",
    "### The number of null values in Dependents is 15,We can replace the missing null values as 0 as its the majority.\n",
    "### The number of null values in Self_Employed is 32,We can replace the missing null values as No as its the majority.\n",
    "### The number of null values in Loan_Amount_Term is 14,We can replace the missing null values as 360 as its the majority.\n",
    "### The number of null values in Credit_History is 50,We can replace the missing null values as 1 as its the majority"
   ]
  },
  {
   "cell_type": "code",
   "execution_count": 8,
   "id": "a282e523",
   "metadata": {},
   "outputs": [],
   "source": [
    "Data['Gender'].replace([np.nan],'Male',inplace=True)\n",
    "Data['Married'].replace([np.nan],'Yes',inplace=True)\n",
    "Data['Dependents'].replace([np.nan],'0',inplace=True)\n",
    "Data['Dependents'].replace(['3+'],'3',inplace=True)\n",
    "Data['Self_Employed'].replace([np.nan],'No',inplace=True)\n",
    "Data['Loan_Amount_Term'].replace([np.nan],360,inplace=True)\n",
    "Data['Credit_History'].replace([np.nan],1,inplace=True)\n"
   ]
  },
  {
   "cell_type": "code",
   "execution_count": 9,
   "id": "a03c8cc6",
   "metadata": {},
   "outputs": [],
   "source": [
    "Data['Dependents']= Data['Dependents'].astype(int)\n",
    "\n"
   ]
  },
  {
   "cell_type": "markdown",
   "id": "cd4a549e",
   "metadata": {},
   "source": [
    "# Finding the missing Load Amounts Accurately "
   ]
  },
  {
   "cell_type": "code",
   "execution_count": 10,
   "id": "704360dd",
   "metadata": {},
   "outputs": [
    {
     "name": "stderr",
     "output_type": "stream",
     "text": [
      "<ipython-input-10-af950028c456>:18: SettingWithCopyWarning: \n",
      "A value is trying to be set on a copy of a slice from a DataFrame.\n",
      "Try using .loc[row_indexer,col_indexer] = value instead\n",
      "\n",
      "See the caveats in the documentation: https://pandas.pydata.org/pandas-docs/stable/user_guide/indexing.html#returning-a-view-versus-a-copy\n",
      "  LA_Data_test[\"LoanAmount\"]=y_test\n"
     ]
    },
    {
     "data": {
      "text/html": [
       "<div>\n",
       "<style scoped>\n",
       "    .dataframe tbody tr th:only-of-type {\n",
       "        vertical-align: middle;\n",
       "    }\n",
       "\n",
       "    .dataframe tbody tr th {\n",
       "        vertical-align: top;\n",
       "    }\n",
       "\n",
       "    .dataframe thead th {\n",
       "        text-align: right;\n",
       "    }\n",
       "</style>\n",
       "<table border=\"1\" class=\"dataframe\">\n",
       "  <thead>\n",
       "    <tr style=\"text-align: right;\">\n",
       "      <th></th>\n",
       "      <th>ApplicantIncome</th>\n",
       "      <th>CoapplicantIncome</th>\n",
       "      <th>Loan_Amount_Term</th>\n",
       "      <th>Credit_History</th>\n",
       "      <th>Dependents</th>\n",
       "      <th>LoanAmount</th>\n",
       "    </tr>\n",
       "  </thead>\n",
       "  <tbody>\n",
       "    <tr>\n",
       "      <th>0</th>\n",
       "      <td>5849</td>\n",
       "      <td>0.0</td>\n",
       "      <td>360.0</td>\n",
       "      <td>1.0</td>\n",
       "      <td>0</td>\n",
       "      <td>151.50</td>\n",
       "    </tr>\n",
       "    <tr>\n",
       "      <th>35</th>\n",
       "      <td>2275</td>\n",
       "      <td>2067.0</td>\n",
       "      <td>360.0</td>\n",
       "      <td>1.0</td>\n",
       "      <td>0</td>\n",
       "      <td>96.75</td>\n",
       "    </tr>\n",
       "    <tr>\n",
       "      <th>63</th>\n",
       "      <td>4945</td>\n",
       "      <td>0.0</td>\n",
       "      <td>360.0</td>\n",
       "      <td>0.0</td>\n",
       "      <td>1</td>\n",
       "      <td>137.25</td>\n",
       "    </tr>\n",
       "    <tr>\n",
       "      <th>81</th>\n",
       "      <td>2395</td>\n",
       "      <td>0.0</td>\n",
       "      <td>360.0</td>\n",
       "      <td>1.0</td>\n",
       "      <td>1</td>\n",
       "      <td>51.25</td>\n",
       "    </tr>\n",
       "    <tr>\n",
       "      <th>95</th>\n",
       "      <td>6782</td>\n",
       "      <td>0.0</td>\n",
       "      <td>360.0</td>\n",
       "      <td>1.0</td>\n",
       "      <td>0</td>\n",
       "      <td>169.00</td>\n",
       "    </tr>\n",
       "    <tr>\n",
       "      <th>102</th>\n",
       "      <td>13650</td>\n",
       "      <td>0.0</td>\n",
       "      <td>360.0</td>\n",
       "      <td>1.0</td>\n",
       "      <td>0</td>\n",
       "      <td>266.50</td>\n",
       "    </tr>\n",
       "    <tr>\n",
       "      <th>103</th>\n",
       "      <td>4652</td>\n",
       "      <td>3583.0</td>\n",
       "      <td>360.0</td>\n",
       "      <td>1.0</td>\n",
       "      <td>0</td>\n",
       "      <td>180.25</td>\n",
       "    </tr>\n",
       "    <tr>\n",
       "      <th>113</th>\n",
       "      <td>7451</td>\n",
       "      <td>0.0</td>\n",
       "      <td>360.0</td>\n",
       "      <td>1.0</td>\n",
       "      <td>1</td>\n",
       "      <td>151.25</td>\n",
       "    </tr>\n",
       "    <tr>\n",
       "      <th>127</th>\n",
       "      <td>3865</td>\n",
       "      <td>1640.0</td>\n",
       "      <td>360.0</td>\n",
       "      <td>1.0</td>\n",
       "      <td>0</td>\n",
       "      <td>125.75</td>\n",
       "    </tr>\n",
       "    <tr>\n",
       "      <th>202</th>\n",
       "      <td>3992</td>\n",
       "      <td>0.0</td>\n",
       "      <td>180.0</td>\n",
       "      <td>1.0</td>\n",
       "      <td>3</td>\n",
       "      <td>82.50</td>\n",
       "    </tr>\n",
       "    <tr>\n",
       "      <th>284</th>\n",
       "      <td>20667</td>\n",
       "      <td>0.0</td>\n",
       "      <td>360.0</td>\n",
       "      <td>1.0</td>\n",
       "      <td>0</td>\n",
       "      <td>557.50</td>\n",
       "    </tr>\n",
       "    <tr>\n",
       "      <th>305</th>\n",
       "      <td>2000</td>\n",
       "      <td>0.0</td>\n",
       "      <td>360.0</td>\n",
       "      <td>1.0</td>\n",
       "      <td>0</td>\n",
       "      <td>70.75</td>\n",
       "    </tr>\n",
       "    <tr>\n",
       "      <th>322</th>\n",
       "      <td>3601</td>\n",
       "      <td>1590.0</td>\n",
       "      <td>360.0</td>\n",
       "      <td>1.0</td>\n",
       "      <td>2</td>\n",
       "      <td>125.75</td>\n",
       "    </tr>\n",
       "    <tr>\n",
       "      <th>338</th>\n",
       "      <td>1830</td>\n",
       "      <td>0.0</td>\n",
       "      <td>360.0</td>\n",
       "      <td>0.0</td>\n",
       "      <td>3</td>\n",
       "      <td>70.75</td>\n",
       "    </tr>\n",
       "    <tr>\n",
       "      <th>387</th>\n",
       "      <td>3010</td>\n",
       "      <td>3136.0</td>\n",
       "      <td>360.0</td>\n",
       "      <td>0.0</td>\n",
       "      <td>0</td>\n",
       "      <td>123.25</td>\n",
       "    </tr>\n",
       "    <tr>\n",
       "      <th>435</th>\n",
       "      <td>10047</td>\n",
       "      <td>0.0</td>\n",
       "      <td>240.0</td>\n",
       "      <td>1.0</td>\n",
       "      <td>0</td>\n",
       "      <td>202.25</td>\n",
       "    </tr>\n",
       "    <tr>\n",
       "      <th>437</th>\n",
       "      <td>2213</td>\n",
       "      <td>1125.0</td>\n",
       "      <td>360.0</td>\n",
       "      <td>1.0</td>\n",
       "      <td>0</td>\n",
       "      <td>84.50</td>\n",
       "    </tr>\n",
       "    <tr>\n",
       "      <th>479</th>\n",
       "      <td>2947</td>\n",
       "      <td>1603.0</td>\n",
       "      <td>360.0</td>\n",
       "      <td>1.0</td>\n",
       "      <td>2</td>\n",
       "      <td>97.50</td>\n",
       "    </tr>\n",
       "    <tr>\n",
       "      <th>524</th>\n",
       "      <td>4680</td>\n",
       "      <td>2087.0</td>\n",
       "      <td>360.0</td>\n",
       "      <td>1.0</td>\n",
       "      <td>0</td>\n",
       "      <td>155.75</td>\n",
       "    </tr>\n",
       "    <tr>\n",
       "      <th>550</th>\n",
       "      <td>6633</td>\n",
       "      <td>0.0</td>\n",
       "      <td>360.0</td>\n",
       "      <td>0.0</td>\n",
       "      <td>2</td>\n",
       "      <td>144.25</td>\n",
       "    </tr>\n",
       "    <tr>\n",
       "      <th>551</th>\n",
       "      <td>2492</td>\n",
       "      <td>2375.0</td>\n",
       "      <td>360.0</td>\n",
       "      <td>1.0</td>\n",
       "      <td>1</td>\n",
       "      <td>155.25</td>\n",
       "    </tr>\n",
       "    <tr>\n",
       "      <th>605</th>\n",
       "      <td>2400</td>\n",
       "      <td>3800.0</td>\n",
       "      <td>180.0</td>\n",
       "      <td>1.0</td>\n",
       "      <td>0</td>\n",
       "      <td>138.00</td>\n",
       "    </tr>\n",
       "  </tbody>\n",
       "</table>\n",
       "</div>"
      ],
      "text/plain": [
       "     ApplicantIncome  CoapplicantIncome  Loan_Amount_Term  Credit_History  \\\n",
       "0               5849                0.0             360.0             1.0   \n",
       "35              2275             2067.0             360.0             1.0   \n",
       "63              4945                0.0             360.0             0.0   \n",
       "81              2395                0.0             360.0             1.0   \n",
       "95              6782                0.0             360.0             1.0   \n",
       "102            13650                0.0             360.0             1.0   \n",
       "103             4652             3583.0             360.0             1.0   \n",
       "113             7451                0.0             360.0             1.0   \n",
       "127             3865             1640.0             360.0             1.0   \n",
       "202             3992                0.0             180.0             1.0   \n",
       "284            20667                0.0             360.0             1.0   \n",
       "305             2000                0.0             360.0             1.0   \n",
       "322             3601             1590.0             360.0             1.0   \n",
       "338             1830                0.0             360.0             0.0   \n",
       "387             3010             3136.0             360.0             0.0   \n",
       "435            10047                0.0             240.0             1.0   \n",
       "437             2213             1125.0             360.0             1.0   \n",
       "479             2947             1603.0             360.0             1.0   \n",
       "524             4680             2087.0             360.0             1.0   \n",
       "550             6633                0.0             360.0             0.0   \n",
       "551             2492             2375.0             360.0             1.0   \n",
       "605             2400             3800.0             180.0             1.0   \n",
       "\n",
       "     Dependents  LoanAmount  \n",
       "0             0      151.50  \n",
       "35            0       96.75  \n",
       "63            1      137.25  \n",
       "81            1       51.25  \n",
       "95            0      169.00  \n",
       "102           0      266.50  \n",
       "103           0      180.25  \n",
       "113           1      151.25  \n",
       "127           0      125.75  \n",
       "202           3       82.50  \n",
       "284           0      557.50  \n",
       "305           0       70.75  \n",
       "322           2      125.75  \n",
       "338           3       70.75  \n",
       "387           0      123.25  \n",
       "435           0      202.25  \n",
       "437           0       84.50  \n",
       "479           2       97.50  \n",
       "524           0      155.75  \n",
       "550           2      144.25  \n",
       "551           1      155.25  \n",
       "605           0      138.00  "
      ]
     },
     "execution_count": 10,
     "metadata": {},
     "output_type": "execute_result"
    }
   ],
   "source": [
    "# KNN Regressor can be used to find the Loan Amount more accurately \n",
    "\n",
    "from sklearn.neighbors import KNeighborsRegressor\n",
    "\n",
    "LA_Data=Data[['ApplicantIncome','CoapplicantIncome','Loan_Amount_Term','Credit_History','Dependents','LoanAmount']]\n",
    "LA_Data_train=LA_Data[LA_Data['LoanAmount'].isnull()==False]\n",
    "LA_Data_test=LA_Data[LA_Data['LoanAmount'].isnull()==True]\n",
    "x_train=LA_Data_train.drop(\"LoanAmount\",axis=1)\n",
    "y_train=LA_Data_train.LoanAmount\n",
    "x_test=LA_Data_test.drop(\"LoanAmount\",axis=1)\n",
    "\n",
    "KNN=KNeighborsRegressor(n_neighbors=4)\n",
    "\n",
    "KNN=KNN.fit(x_train,y_train)\n",
    "\n",
    "y_test=KNN.predict(x_test)\n",
    "\n",
    "LA_Data_test[\"LoanAmount\"]=y_test\n",
    "\n",
    "LA_Data_test\n",
    "\n"
   ]
  },
  {
   "cell_type": "code",
   "execution_count": 11,
   "id": "ea71ea0f",
   "metadata": {},
   "outputs": [
    {
     "name": "stderr",
     "output_type": "stream",
     "text": [
      "/Users/alok.g.v/opt/anaconda3/lib/python3.8/site-packages/pandas/core/indexing.py:1637: SettingWithCopyWarning: \n",
      "A value is trying to be set on a copy of a slice from a DataFrame\n",
      "\n",
      "See the caveats in the documentation: https://pandas.pydata.org/pandas-docs/stable/user_guide/indexing.html#returning-a-view-versus-a-copy\n",
      "  self._setitem_single_block(indexer, value, name)\n"
     ]
    },
    {
     "data": {
      "text/plain": [
       "0"
      ]
     },
     "execution_count": 11,
     "metadata": {},
     "output_type": "execute_result"
    }
   ],
   "source": [
    "#replacing the null values with the values predicted by our KNN Model\n",
    "\n",
    "\n",
    "repl=LA_Data_test.index\n",
    "i=0\n",
    "for x in repl:\n",
    "    Data['LoanAmount'].loc[x]=y_test[i]\n",
    "    i+=1\n",
    "\n",
    "Data['LoanAmount'].isnull().sum()"
   ]
  },
  {
   "cell_type": "markdown",
   "id": "bd41692c",
   "metadata": {},
   "source": [
    "# OneHotEncoding and Label Encoding of the categorical data\n"
   ]
  },
  {
   "cell_type": "markdown",
   "id": "71620e76",
   "metadata": {},
   "source": [
    "### Using dummie columns \n"
   ]
  },
  {
   "cell_type": "code",
   "execution_count": 12,
   "id": "72971490",
   "metadata": {},
   "outputs": [
    {
     "data": {
      "text/plain": [
       "\"dum=pd.get_dummies(data=Data,columns=['Gender','Married','Education','Self_Employed','Property_Area'])\\n\\ndum\""
      ]
     },
     "execution_count": 12,
     "metadata": {},
     "output_type": "execute_result"
    }
   ],
   "source": [
    "Gender=pd.get_dummies(Data['Gender'])\n",
    "Married=pd.get_dummies(Data['Married'])\n",
    "Education=pd.get_dummies(Data['Education'])\n",
    "Self_Employed=pd.get_dummies(Data['Self_Employed'])\n",
    "Property_Area=pd.get_dummies(Data['Property_Area'])\n"
   ]
  },
  {
   "cell_type": "code",
   "execution_count": 13,
   "id": "83fea29e",
   "metadata": {},
   "outputs": [],
   "source": [
    "Le=LabelEncoder()\n",
    "Data['Loan_Status']=Le.fit_transform(Data['Loan_Status'])\n"
   ]
  },
  {
   "cell_type": "code",
   "execution_count": 14,
   "id": "fba160a2",
   "metadata": {},
   "outputs": [],
   "source": [
    "X=Data[['Dependents','ApplicantIncome','CoapplicantIncome','LoanAmount','Loan_Amount_Term','Credit_History']]\n",
    "X=pd.concat([X,Gender,Married,Education,Self_Employed,Property_Area],axis=1)\n",
    "y=Data['Loan_Status']\n"
   ]
  },
  {
   "cell_type": "markdown",
   "id": "6a6bd3e5",
   "metadata": {},
   "source": [
    "# Spliting the Data into train and test sets"
   ]
  },
  {
   "cell_type": "code",
   "execution_count": 15,
   "id": "eb4e59ce",
   "metadata": {},
   "outputs": [],
   "source": [
    "X_train,X_test,y_train,y_test=train_test_split(X,y,test_size=(0.2))\n"
   ]
  },
  {
   "cell_type": "markdown",
   "id": "59ba2ad6",
   "metadata": {},
   "source": [
    "# Logistic regression model"
   ]
  },
  {
   "cell_type": "code",
   "execution_count": 16,
   "id": "866f38a7",
   "metadata": {},
   "outputs": [],
   "source": [
    "from sklearn.linear_model import LogisticRegression\n",
    "from sklearn.preprocessing import StandardScaler\n",
    "from sklearn.pipeline import make_pipeline\n",
    "\n",
    "model=LogisticRegression()\n",
    "pipe=make_pipeline(StandardScaler(), LogisticRegression())\n",
    "pipe.fit(X_train, y_train)\n",
    "y_pred=pipe.predict(X_test)\n"
   ]
  },
  {
   "cell_type": "code",
   "execution_count": 17,
   "id": "a762e981",
   "metadata": {},
   "outputs": [
    {
     "data": {
      "text/plain": [
       "array([1, 1, 0, 1, 1, 1, 1, 1, 1, 1, 1, 1, 1, 1, 1, 1, 1, 1, 0, 1, 1, 1,\n",
       "       1, 1, 1, 0, 1, 1, 1, 1, 1, 1, 1, 0, 1, 1, 1, 1, 1, 1, 1, 1, 1, 1,\n",
       "       1, 1, 1, 0, 1, 0, 1, 1, 1, 0, 1, 1, 1, 1, 1, 1, 1, 1, 1, 1, 1, 1,\n",
       "       1, 1, 1, 1, 1, 1, 1, 1, 1, 1, 1, 0, 1, 0, 1, 1, 0, 1, 1, 0, 1, 1,\n",
       "       1, 1, 1, 1, 1, 0, 1, 1, 0, 1, 1, 1, 1, 1, 1, 1, 1, 1, 1, 0, 1, 0,\n",
       "       1, 1, 1, 1, 1, 1, 1, 0, 1, 1, 1, 1, 1])"
      ]
     },
     "execution_count": 17,
     "metadata": {},
     "output_type": "execute_result"
    }
   ],
   "source": [
    "y_pred"
   ]
  },
  {
   "cell_type": "code",
   "execution_count": 18,
   "id": "758866cc",
   "metadata": {},
   "outputs": [
    {
     "name": "stdout",
     "output_type": "stream",
     "text": [
      "0.8617886178861789\n"
     ]
    }
   ],
   "source": [
    "from sklearn.metrics import accuracy_score\n",
    "print(accuracy_score(y_test,y_pred))"
   ]
  },
  {
   "cell_type": "markdown",
   "id": "d1ae1f70",
   "metadata": {},
   "source": [
    "# Hyperperameter Tuning using GridSearchCV"
   ]
  },
  {
   "cell_type": "code",
   "execution_count": 32,
   "id": "fbe8da8e",
   "metadata": {},
   "outputs": [],
   "source": [
    "from sklearn.model_selection import GridSearchCV"
   ]
  },
  {
   "cell_type": "code",
   "execution_count": 33,
   "id": "151776c0",
   "metadata": {},
   "outputs": [],
   "source": [
    "param_grid = [{'penalty' : ['l1', 'l2', 'elasticnet', 'none'],\n",
    "    'C' : np.logspace(-4, 4, 20),\n",
    "    'solver' : ['lbfgs','newton-cg','liblinear','sag','saga'],\n",
    "    'max_iter' : [100, 1000,2500, 5000]\n",
    "    }\n",
    "]"
   ]
  },
  {
   "cell_type": "code",
   "execution_count": 34,
   "id": "2f247994",
   "metadata": {},
   "outputs": [],
   "source": [
    "LR=LogisticRegression()\n",
    "clf=GridSearchCV(LR,param_grid=param_grid,cv = 3,verbose=True,n_jobs=-1)"
   ]
  },
  {
   "cell_type": "code",
   "execution_count": 35,
   "id": "dc7b96ce",
   "metadata": {},
   "outputs": [
    {
     "name": "stdout",
     "output_type": "stream",
     "text": [
      "Fitting 3 folds for each of 1600 candidates, totalling 4800 fits\n"
     ]
    },
    {
     "name": "stderr",
     "output_type": "stream",
     "text": [
      "/Users/alok.g.v/opt/anaconda3/lib/python3.8/site-packages/sklearn/model_selection/_search.py:922: UserWarning: One or more of the test scores are non-finite: [       nan        nan 0.67616839 ...        nan 0.67209088 0.67209088]\n",
      "  warnings.warn(\n"
     ]
    }
   ],
   "source": [
    "best_clf = clf.fit(X_train,y_train)"
   ]
  },
  {
   "cell_type": "code",
   "execution_count": 36,
   "id": "7b4c6a1e",
   "metadata": {},
   "outputs": [
    {
     "data": {
      "text/plain": [
       "LogisticRegression(C=0.23357214690901212, solver='newton-cg')"
      ]
     },
     "execution_count": 36,
     "metadata": {},
     "output_type": "execute_result"
    }
   ],
   "source": [
    "best_clf.best_estimator_"
   ]
  },
  {
   "cell_type": "code",
   "execution_count": 37,
   "id": "4038ae50",
   "metadata": {},
   "outputs": [
    {
     "name": "stdout",
     "output_type": "stream",
     "text": [
      "0.8617886178861789\n"
     ]
    }
   ],
   "source": [
    "model=LogisticRegression()\n",
    "pipe=make_pipeline(StandardScaler(), LogisticRegression(C=0.23357214690901212, solver='newton-cg'))\n",
    "pipe.fit(X_train, y_train)\n",
    "y_pred=pipe.predict(X_test)\n",
    "print(accuracy_score(y_test,y_pred))"
   ]
  },
  {
   "cell_type": "markdown",
   "id": "13253312",
   "metadata": {},
   "source": [
    "# Test File"
   ]
  },
  {
   "cell_type": "code",
   "execution_count": 39,
   "id": "c092e3e0",
   "metadata": {},
   "outputs": [
    {
     "name": "stdout",
     "output_type": "stream",
     "text": [
      "<class 'pandas.core.frame.DataFrame'>\n",
      "RangeIndex: 367 entries, 0 to 366\n",
      "Data columns (total 12 columns):\n",
      " #   Column             Non-Null Count  Dtype  \n",
      "---  ------             --------------  -----  \n",
      " 0   Loan_ID            367 non-null    object \n",
      " 1   Gender             356 non-null    object \n",
      " 2   Married            367 non-null    object \n",
      " 3   Dependents         357 non-null    object \n",
      " 4   Education          367 non-null    object \n",
      " 5   Self_Employed      344 non-null    object \n",
      " 6   ApplicantIncome    367 non-null    int64  \n",
      " 7   CoapplicantIncome  367 non-null    int64  \n",
      " 8   LoanAmount         362 non-null    float64\n",
      " 9   Loan_Amount_Term   361 non-null    float64\n",
      " 10  Credit_History     338 non-null    float64\n",
      " 11  Property_Area      367 non-null    object \n",
      "dtypes: float64(3), int64(2), object(7)\n",
      "memory usage: 34.5+ KB\n"
     ]
    }
   ],
   "source": [
    "Data_test=pd.read_csv('/Users/alok.g.v/Desktop/project/Loan Prediction analytic vidhya /test_lAUu6dG.csv')\n",
    "Data_test.info()"
   ]
  },
  {
   "cell_type": "code",
   "execution_count": 42,
   "id": "ebbfc759",
   "metadata": {},
   "outputs": [
    {
     "name": "stdout",
     "output_type": "stream",
     "text": [
      "The number of null values in Loan_ID :  0\n",
      "The number of null values in Gender :  11\n",
      "The number of null values in Married :  0\n",
      "The number of null values in Dependents :  10\n",
      "The number of null values in Education :  0\n",
      "The number of null values in Self_Employed :  23\n",
      "The number of null values in ApplicantIncome :  0\n",
      "The number of null values in CoapplicantIncome :  0\n",
      "The number of null values in LoanAmount :  5\n",
      "The number of null values in Loan_Amount_Term :  6\n",
      "The number of null values in Credit_History :  29\n",
      "The number of null values in Property_Area :  0\n"
     ]
    }
   ],
   "source": [
    "columns=Data_test.columns\n",
    "for i in columns:\n",
    "    print(f'The number of null values in {i} : ',Data_test[i].isna().sum())"
   ]
  },
  {
   "cell_type": "code",
   "execution_count": 44,
   "id": "fdf44bba",
   "metadata": {},
   "outputs": [],
   "source": [
    "Data_test['Gender'].replace([np.nan],'Male',inplace=True)\n",
    "Data_test['Dependents'].replace([np.nan],'0',inplace=True)\n",
    "Data_test['Dependents'].replace(['3+'],'3',inplace=True)\n",
    "Data_test['Self_Employed'].replace([np.nan],'No',inplace=True)\n",
    "Data_test['Loan_Amount_Term'].replace([np.nan],360,inplace=True)\n",
    "Data_test['Credit_History'].replace([np.nan],1,inplace=True)\n",
    "Data['Dependents']= Data['Dependents'].astype(int)\n",
    "\n",
    "\n"
   ]
  },
  {
   "cell_type": "code",
   "execution_count": 45,
   "id": "b29fdbd1",
   "metadata": {},
   "outputs": [
    {
     "name": "stderr",
     "output_type": "stream",
     "text": [
      "<ipython-input-45-da2a0c395dcc>:14: SettingWithCopyWarning: \n",
      "A value is trying to be set on a copy of a slice from a DataFrame.\n",
      "Try using .loc[row_indexer,col_indexer] = value instead\n",
      "\n",
      "See the caveats in the documentation: https://pandas.pydata.org/pandas-docs/stable/user_guide/indexing.html#returning-a-view-versus-a-copy\n",
      "  LA_Data_test[\"LoanAmount\"]=y_test\n"
     ]
    },
    {
     "data": {
      "text/html": [
       "<div>\n",
       "<style scoped>\n",
       "    .dataframe tbody tr th:only-of-type {\n",
       "        vertical-align: middle;\n",
       "    }\n",
       "\n",
       "    .dataframe tbody tr th {\n",
       "        vertical-align: top;\n",
       "    }\n",
       "\n",
       "    .dataframe thead th {\n",
       "        text-align: right;\n",
       "    }\n",
       "</style>\n",
       "<table border=\"1\" class=\"dataframe\">\n",
       "  <thead>\n",
       "    <tr style=\"text-align: right;\">\n",
       "      <th></th>\n",
       "      <th>ApplicantIncome</th>\n",
       "      <th>CoapplicantIncome</th>\n",
       "      <th>Loan_Amount_Term</th>\n",
       "      <th>Credit_History</th>\n",
       "      <th>Dependents</th>\n",
       "      <th>LoanAmount</th>\n",
       "    </tr>\n",
       "  </thead>\n",
       "  <tbody>\n",
       "    <tr>\n",
       "      <th>78</th>\n",
       "      <td>3413</td>\n",
       "      <td>4053</td>\n",
       "      <td>360.0</td>\n",
       "      <td>1.0</td>\n",
       "      <td>1</td>\n",
       "      <td>182.00</td>\n",
       "    </tr>\n",
       "    <tr>\n",
       "      <th>101</th>\n",
       "      <td>2262</td>\n",
       "      <td>0</td>\n",
       "      <td>480.0</td>\n",
       "      <td>0.0</td>\n",
       "      <td>0</td>\n",
       "      <td>82.50</td>\n",
       "    </tr>\n",
       "    <tr>\n",
       "      <th>188</th>\n",
       "      <td>13083</td>\n",
       "      <td>0</td>\n",
       "      <td>360.0</td>\n",
       "      <td>1.0</td>\n",
       "      <td>0</td>\n",
       "      <td>280.00</td>\n",
       "    </tr>\n",
       "    <tr>\n",
       "      <th>247</th>\n",
       "      <td>10000</td>\n",
       "      <td>0</td>\n",
       "      <td>360.0</td>\n",
       "      <td>1.0</td>\n",
       "      <td>0</td>\n",
       "      <td>152.25</td>\n",
       "    </tr>\n",
       "    <tr>\n",
       "      <th>289</th>\n",
       "      <td>8333</td>\n",
       "      <td>4000</td>\n",
       "      <td>360.0</td>\n",
       "      <td>1.0</td>\n",
       "      <td>1</td>\n",
       "      <td>223.00</td>\n",
       "    </tr>\n",
       "  </tbody>\n",
       "</table>\n",
       "</div>"
      ],
      "text/plain": [
       "     ApplicantIncome  CoapplicantIncome  Loan_Amount_Term  Credit_History  \\\n",
       "78              3413               4053             360.0             1.0   \n",
       "101             2262                  0             480.0             0.0   \n",
       "188            13083                  0             360.0             1.0   \n",
       "247            10000                  0             360.0             1.0   \n",
       "289             8333               4000             360.0             1.0   \n",
       "\n",
       "    Dependents  LoanAmount  \n",
       "78           1      182.00  \n",
       "101          0       82.50  \n",
       "188          0      280.00  \n",
       "247          0      152.25  \n",
       "289          1      223.00  "
      ]
     },
     "execution_count": 45,
     "metadata": {},
     "output_type": "execute_result"
    }
   ],
   "source": [
    "LA_Data=Data_test[['ApplicantIncome','CoapplicantIncome','Loan_Amount_Term','Credit_History','Dependents','LoanAmount']]\n",
    "LA_Data_train=LA_Data[LA_Data['LoanAmount'].isnull()==False]\n",
    "LA_Data_test=LA_Data[LA_Data['LoanAmount'].isnull()==True]\n",
    "x_train=LA_Data_train.drop(\"LoanAmount\",axis=1)\n",
    "y_train=LA_Data_train.LoanAmount\n",
    "x_test=LA_Data_test.drop(\"LoanAmount\",axis=1)\n",
    "\n",
    "KNN=KNeighborsRegressor(n_neighbors=4)\n",
    "\n",
    "KNN=KNN.fit(x_train,y_train)\n",
    "\n",
    "y_test=KNN.predict(x_test)\n",
    "\n",
    "LA_Data_test[\"LoanAmount\"]=y_test\n",
    "\n",
    "LA_Data_test\n",
    "\n"
   ]
  },
  {
   "cell_type": "code",
   "execution_count": 46,
   "id": "8c55fb0f",
   "metadata": {},
   "outputs": [
    {
     "name": "stderr",
     "output_type": "stream",
     "text": [
      "/Users/alok.g.v/opt/anaconda3/lib/python3.8/site-packages/pandas/core/indexing.py:1637: SettingWithCopyWarning: \n",
      "A value is trying to be set on a copy of a slice from a DataFrame\n",
      "\n",
      "See the caveats in the documentation: https://pandas.pydata.org/pandas-docs/stable/user_guide/indexing.html#returning-a-view-versus-a-copy\n",
      "  self._setitem_single_block(indexer, value, name)\n"
     ]
    },
    {
     "data": {
      "text/plain": [
       "0"
      ]
     },
     "execution_count": 46,
     "metadata": {},
     "output_type": "execute_result"
    }
   ],
   "source": [
    "repl=LA_Data_test.index\n",
    "i=0\n",
    "for x in repl:\n",
    "    Data_test['LoanAmount'].loc[x]=y_test[i]\n",
    "    i+=1\n",
    "\n",
    "Data_test['LoanAmount'].isnull().sum()"
   ]
  },
  {
   "cell_type": "code",
   "execution_count": 48,
   "id": "610d163d",
   "metadata": {},
   "outputs": [],
   "source": [
    "Gender=pd.get_dummies(Data_test['Gender'])\n",
    "Married=pd.get_dummies(Data_test['Married'])\n",
    "Education=pd.get_dummies(Data_test['Education'])\n",
    "Self_Employed=pd.get_dummies(Data_test['Self_Employed'])\n",
    "Property_Area=pd.get_dummies(Data_test['Property_Area'])"
   ]
  },
  {
   "cell_type": "code",
   "execution_count": 49,
   "id": "7f135944",
   "metadata": {},
   "outputs": [],
   "source": [
    "X=Data_test[['Dependents','ApplicantIncome','CoapplicantIncome','LoanAmount','Loan_Amount_Term','Credit_History']]\n",
    "X=pd.concat([X,Gender,Married,Education,Self_Employed,Property_Area],axis=1)"
   ]
  },
  {
   "cell_type": "code",
   "execution_count": 50,
   "id": "8a7ae20b",
   "metadata": {},
   "outputs": [],
   "source": [
    "y_testset=pipe.predict(X)\n"
   ]
  },
  {
   "cell_type": "markdown",
   "id": "1fa553ce",
   "metadata": {},
   "source": [
    "# Test set Predictions"
   ]
  },
  {
   "cell_type": "code",
   "execution_count": 51,
   "id": "1a9acaca",
   "metadata": {},
   "outputs": [
    {
     "data": {
      "text/plain": [
       "array([1, 1, 1, 1, 1, 1, 1, 0, 1, 1, 1, 1, 1, 0, 1, 1, 1, 1, 1, 1, 1, 1,\n",
       "       1, 1, 1, 0, 1, 1, 1, 1, 1, 1, 1, 1, 1, 0, 1, 1, 1, 1, 1, 1, 1, 1,\n",
       "       1, 1, 1, 1, 1, 1, 1, 1, 1, 1, 1, 0, 1, 1, 0, 1, 1, 1, 1, 0, 1, 1,\n",
       "       0, 0, 1, 0, 1, 1, 1, 1, 1, 1, 1, 1, 1, 1, 0, 1, 0, 1, 0, 1, 1, 1,\n",
       "       1, 1, 1, 1, 1, 1, 0, 1, 1, 1, 1, 1, 1, 0, 1, 1, 1, 1, 0, 1, 1, 1,\n",
       "       1, 1, 1, 1, 1, 1, 1, 0, 0, 0, 1, 1, 1, 0, 0, 1, 0, 1, 1, 1, 1, 1,\n",
       "       1, 1, 1, 1, 1, 1, 1, 1, 0, 1, 0, 1, 1, 1, 1, 0, 1, 1, 1, 1, 1, 0,\n",
       "       1, 1, 1, 1, 1, 1, 1, 0, 1, 1, 1, 0, 0, 1, 0, 1, 1, 1, 1, 0, 0, 1,\n",
       "       1, 1, 1, 1, 1, 1, 1, 1, 1, 1, 1, 1, 1, 1, 1, 1, 0, 0, 1, 1, 0, 1,\n",
       "       0, 1, 1, 1, 1, 1, 1, 1, 1, 1, 1, 1, 1, 0, 1, 1, 1, 1, 1, 1, 1, 1,\n",
       "       1, 1, 1, 1, 0, 1, 1, 1, 1, 0, 1, 1, 1, 1, 1, 0, 0, 1, 1, 1, 1, 0,\n",
       "       1, 0, 1, 0, 1, 1, 1, 1, 0, 1, 1, 1, 1, 0, 1, 1, 1, 1, 1, 1, 1, 1,\n",
       "       1, 1, 0, 1, 0, 1, 1, 1, 1, 0, 0, 1, 1, 1, 0, 1, 1, 1, 1, 1, 1, 1,\n",
       "       1, 1, 1, 1, 1, 1, 1, 0, 1, 1, 1, 1, 1, 1, 1, 0, 1, 1, 1, 1, 1, 1,\n",
       "       1, 1, 1, 0, 1, 1, 1, 1, 1, 0, 1, 1, 1, 1, 1, 1, 1, 0, 1, 1, 1, 1,\n",
       "       1, 1, 1, 1, 1, 1, 1, 1, 1, 0, 1, 1, 1, 1, 1, 1, 0, 1, 1, 1, 1, 1,\n",
       "       1, 1, 0, 1, 1, 1, 1, 1, 1, 1, 1, 1, 1, 1, 1])"
      ]
     },
     "execution_count": 51,
     "metadata": {},
     "output_type": "execute_result"
    }
   ],
   "source": [
    "y_testset"
   ]
  },
  {
   "cell_type": "markdown",
   "id": "31894a99",
   "metadata": {},
   "source": [
    "# Exporting the test result to .csv"
   ]
  },
  {
   "cell_type": "code",
   "execution_count": 55,
   "id": "b93602bc",
   "metadata": {},
   "outputs": [
    {
     "data": {
      "text/html": [
       "<div>\n",
       "<style scoped>\n",
       "    .dataframe tbody tr th:only-of-type {\n",
       "        vertical-align: middle;\n",
       "    }\n",
       "\n",
       "    .dataframe tbody tr th {\n",
       "        vertical-align: top;\n",
       "    }\n",
       "\n",
       "    .dataframe thead th {\n",
       "        text-align: right;\n",
       "    }\n",
       "</style>\n",
       "<table border=\"1\" class=\"dataframe\">\n",
       "  <thead>\n",
       "    <tr style=\"text-align: right;\">\n",
       "      <th></th>\n",
       "      <th>Loan_ID</th>\n",
       "      <th>Loan_Status</th>\n",
       "    </tr>\n",
       "  </thead>\n",
       "  <tbody>\n",
       "    <tr>\n",
       "      <th>0</th>\n",
       "      <td>LP001015</td>\n",
       "      <td>Y</td>\n",
       "    </tr>\n",
       "    <tr>\n",
       "      <th>1</th>\n",
       "      <td>LP001022</td>\n",
       "      <td>Y</td>\n",
       "    </tr>\n",
       "    <tr>\n",
       "      <th>2</th>\n",
       "      <td>LP001031</td>\n",
       "      <td>Y</td>\n",
       "    </tr>\n",
       "    <tr>\n",
       "      <th>3</th>\n",
       "      <td>LP001035</td>\n",
       "      <td>Y</td>\n",
       "    </tr>\n",
       "    <tr>\n",
       "      <th>4</th>\n",
       "      <td>LP001051</td>\n",
       "      <td>Y</td>\n",
       "    </tr>\n",
       "    <tr>\n",
       "      <th>...</th>\n",
       "      <td>...</td>\n",
       "      <td>...</td>\n",
       "    </tr>\n",
       "    <tr>\n",
       "      <th>362</th>\n",
       "      <td>LP002971</td>\n",
       "      <td>Y</td>\n",
       "    </tr>\n",
       "    <tr>\n",
       "      <th>363</th>\n",
       "      <td>LP002975</td>\n",
       "      <td>Y</td>\n",
       "    </tr>\n",
       "    <tr>\n",
       "      <th>364</th>\n",
       "      <td>LP002980</td>\n",
       "      <td>Y</td>\n",
       "    </tr>\n",
       "    <tr>\n",
       "      <th>365</th>\n",
       "      <td>LP002986</td>\n",
       "      <td>Y</td>\n",
       "    </tr>\n",
       "    <tr>\n",
       "      <th>366</th>\n",
       "      <td>LP002989</td>\n",
       "      <td>Y</td>\n",
       "    </tr>\n",
       "  </tbody>\n",
       "</table>\n",
       "<p>367 rows × 2 columns</p>\n",
       "</div>"
      ],
      "text/plain": [
       "      Loan_ID Loan_Status\n",
       "0    LP001015           Y\n",
       "1    LP001022           Y\n",
       "2    LP001031           Y\n",
       "3    LP001035           Y\n",
       "4    LP001051           Y\n",
       "..        ...         ...\n",
       "362  LP002971           Y\n",
       "363  LP002975           Y\n",
       "364  LP002980           Y\n",
       "365  LP002986           Y\n",
       "366  LP002989           Y\n",
       "\n",
       "[367 rows x 2 columns]"
      ]
     },
     "execution_count": 55,
     "metadata": {},
     "output_type": "execute_result"
    }
   ],
   "source": [
    "\n",
    "\n",
    "\n",
    "submission=pd.DataFrame()\n",
    "submission['Loan_ID']=Data_test['Loan_ID']\n",
    "submission['Loan_Status']=y_testset\n",
    "submission['Loan_Status'].replace(1,'Y',inplace=True)\n",
    "submission['Loan_Status'].replace(0,'N',inplace=True)\n",
    "\n",
    "submission\n"
   ]
  },
  {
   "cell_type": "code",
   "execution_count": 56,
   "id": "b6c48f59",
   "metadata": {},
   "outputs": [],
   "source": [
    "submission.to_csv('Submission.csv',index=False)\n"
   ]
  }
 ],
 "metadata": {
  "kernelspec": {
   "display_name": "Python 3",
   "language": "python",
   "name": "python3"
  },
  "language_info": {
   "codemirror_mode": {
    "name": "ipython",
    "version": 3
   },
   "file_extension": ".py",
   "mimetype": "text/x-python",
   "name": "python",
   "nbconvert_exporter": "python",
   "pygments_lexer": "ipython3",
   "version": "3.8.8"
  }
 },
 "nbformat": 4,
 "nbformat_minor": 5
}
